{
 "cells": [
  {
   "cell_type": "code",
   "execution_count": 14,
   "metadata": {},
   "outputs": [
    {
     "name": "stdout",
     "output_type": "stream",
     "text": [
      "7 3\n",
      "2\n"
     ]
    }
   ],
   "source": [
    "# 두 자연수 A와 B가 주어진다. \n",
    "# 이때, A+B, A-B, A*B, A/B(몫), A%B(나머지)를 출력하는 \n",
    "# 프로그램을 작성하시오. \n",
    "\n",
    "\n",
    "a, b = map(int, input().split())\n",
    "\n",
    "print(a//b)"
   ]
  },
  {
   "cell_type": "code",
   "execution_count": 16,
   "metadata": {},
   "outputs": [
    {
     "name": "stdout",
     "output_type": "stream",
     "text": [
      "4 5 \n",
      "0.8\n"
     ]
    }
   ],
   "source": [
    "# 두 정수 A와 B를 입력받은 다음, A/B를 출력하는 프로그램을 작성하시오. \n",
    "\n",
    "\n",
    "a, b = map(int, input().split())\n",
    "\n",
    "print(a/b)"
   ]
  },
  {
   "cell_type": "code",
   "execution_count": 32,
   "metadata": {},
   "outputs": [
    {
     "name": "stdout",
     "output_type": "stream",
     "text": [
      "17\n"
     ]
    }
   ],
   "source": [
    "# 상근이가 배달하는 봉지의 최소 개수를 출력한다. \n",
    "# 만약, 정확하게 N킬로그램을 만들 수 없다면 -1을 출력한다. \n",
    "\n",
    "n = int(input()) # 숫자로 입력되도록 \n",
    "cnt = 0 # 초기값 0 \n",
    "a = n % 3\n",
    "b = n % 5 # 5로 나눈 나머지 \n",
    "\n",
    "'''\n",
    "n = 1, cnt = -1\n",
    "n = 2, cnt = -1\n",
    "n = 3, cnt = 1(3봉지 1개)\n",
    "n = 4, cnt = -1\n",
    "n = 5, cnt = 1\n",
    "n = 6, cnt = 2\n",
    "n = 7, cnt = -1 (3과 5로 만들 수 없음)\n",
    "n = 8, cnt = 2(3, 5 1개씩)\n",
    "n = 9, cnt = 3\n",
    "\n",
    "n = 3*x + 5 *y \n",
    "x + y = min\n",
    "n-5y = 3x \n",
    "x = (n-5y)/3\n",
    "(n-5y)/3 + y = min \n",
    "min = (n-2y)/3\n",
    "\n",
    "\n",
    "'''\n",
    "while (n >= 0):\n",
    "    \n",
    "    k = n // 5 \n",
    "    \n",
    "    if k != 0:\n",
    "        min = (n-2*k)/3 \n",
    "        cnt = min\n",
    "        break\n",
    "    else:\n",
    "        cnt = -1\n",
    "        break\n",
    "        \n",
    "    print(cnt)\n",
    "    \n",
    "\n"
   ]
  },
  {
   "cell_type": "code",
   "execution_count": null,
   "metadata": {},
   "outputs": [],
   "source": []
  }
 ],
 "metadata": {
  "kernelspec": {
   "display_name": "Python 3",
   "language": "python",
   "name": "python3"
  },
  "language_info": {
   "codemirror_mode": {
    "name": "ipython",
    "version": 3
   },
   "file_extension": ".py",
   "mimetype": "text/x-python",
   "name": "python",
   "nbconvert_exporter": "python",
   "pygments_lexer": "ipython3",
   "version": "3.6.5"
  }
 },
 "nbformat": 4,
 "nbformat_minor": 2
}
