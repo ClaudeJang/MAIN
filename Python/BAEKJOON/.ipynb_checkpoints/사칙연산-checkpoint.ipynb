{
 "cells": [
  {
   "cell_type": "code",
   "execution_count": 14,
   "metadata": {},
   "outputs": [
    {
     "name": "stdout",
     "output_type": "stream",
     "text": [
      "7 3\n",
      "2\n"
     ]
    }
   ],
   "source": [
    "# 두 자연수 A와 B가 주어진다. \n",
    "# 이때, A+B, A-B, A*B, A/B(몫), A%B(나머지)를 출력하는 \n",
    "# 프로그램을 작성하시오. \n",
    "\n",
    "\n",
    "a, b = map(int, input().split())\n",
    "\n",
    "print(a//b)"
   ]
  },
  {
   "cell_type": "code",
   "execution_count": 16,
   "metadata": {},
   "outputs": [
    {
     "name": "stdout",
     "output_type": "stream",
     "text": [
      "4 5 \n",
      "0.8\n"
     ]
    }
   ],
   "source": [
    "# 두 정수 A와 B를 입력받은 다음, A/B를 출력하는 프로그램을 작성하시오. \n",
    "\n",
    "\n",
    "a, b = map(int, input().split())\n",
    "\n",
    "print(a/b)"
   ]
  },
  {
   "cell_type": "code",
   "execution_count": null,
   "metadata": {},
   "outputs": [],
   "source": [
    "# 상근이가 배달하는 봉지의 최소 개수를 출력한다. \n",
    "# 만약, 정확하게 N킬로그램을 만들 수 없다면 -1을 출력한다. \n",
    "\n",
    "class Sugar:\n",
    "    def calculationBag(self):\n",
    "        result = 0;\n",
    "        \n",
    "        N = int(input()) # 배달해야 하는 설탕 무게\n",
    "        \n",
    "        a = N % 3 # 3의 배수의 나머지\n",
    "        b = N % 5 # 5의 배수의 나머지\n",
    "        # totalWeight = 3 *x + 5 *y(x, y > 0)\n",
    "        \n",
    "        while (totalWeight > 0):\n",
    "            \n",
    "            if (a!=0 and b !=0): # 나머지가 모두 0 \n",
    "                result = -1\n",
    "                break\n",
    "                \n",
    "            if (b == 0 and totalWeight != 0):\n",
    "                result = result + (totalWeight // 5) "
   ]
  }
 ],
 "metadata": {
  "kernelspec": {
   "display_name": "Python 3",
   "language": "python",
   "name": "python3"
  },
  "language_info": {
   "codemirror_mode": {
    "name": "ipython",
    "version": 3
   },
   "file_extension": ".py",
   "mimetype": "text/x-python",
   "name": "python",
   "nbconvert_exporter": "python",
   "pygments_lexer": "ipython3",
   "version": "3.6.5"
  }
 },
 "nbformat": 4,
 "nbformat_minor": 2
}
