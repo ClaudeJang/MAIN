{
 "cells": [
  {
   "cell_type": "code",
   "execution_count": 48,
   "metadata": {},
   "outputs": [
    {
     "name": "stdout",
     "output_type": "stream",
     "text": [
      "Counter({'aa': 2, 'cc': 1, 'dd': 1, 'bb': 1, 'ee': 1})\n"
     ]
    }
   ],
   "source": [
    "'''\n",
    "문자열 A와 B가 주어진다.\n",
    "A의 부분문자열 중 문자열 B와 아나그램 관계인 수를 구하여라.\n",
    "(문자의 순서를 바꾸어 같은 문자열이 될 수 있는 것)\n",
    "'''\n",
    "# 컨테이너에 동일한 값의 자료가 몇개인지를 파악하는 사용. \n",
    "# collections.counter()의 결과값은 딕셔너리 형태로 출력. \n",
    "\n",
    "\n",
    "# collections.Counter 예제(1)\n",
    "# list를 입력값으로 함. \n",
    "import collections\n",
    "\n",
    "lst = ['aa','cc','dd','aa','bb','ee']\n",
    "print(collections.Counter(lst))"
   ]
  },
  {
   "cell_type": "code",
   "execution_count": 49,
   "metadata": {},
   "outputs": [
    {
     "name": "stdout",
     "output_type": "stream",
     "text": [
      "Counter({'다': 4, '가': 3, '나': 2})\n"
     ]
    }
   ],
   "source": [
    "# collections.Counter 예제(2)\n",
    "# dictionary를 입력값으로 함\n",
    "import collections\n",
    "\n",
    "print(collections.Counter({'가': 3, '나': 2, '다': 4})) \n"
   ]
  },
  {
   "cell_type": "code",
   "execution_count": 51,
   "metadata": {},
   "outputs": [
    {
     "name": "stdout",
     "output_type": "stream",
     "text": [
      "Counter({'b': 3, 'a': 2, 'c': 2})\n",
      "['a', 'a', 'b', 'b', 'b', 'c', 'c']\n"
     ]
    }
   ],
   "source": [
    "# collections.Counter()에는 값= 개수 형태로 입력 가능 \n",
    "# 예를들어, collections.Counter(a=2, b=3, c=2)는 ['a', 'a', 'b', 'b', 'b', 'c', 'c']와 같다.\n",
    "# 아래의 예제(3)의 출력값을 통해 확인할 수 있다.\n",
    "\n",
    "# collections.Counter 예제 (3) \n",
    "# '값=개수' 입력값으로 함 \n",
    "\n",
    "import collections\n",
    "\n",
    "c = collections.Counter(a=2, b=3, c=2)\n",
    "print(collections.Counter(c))\n",
    "print(sorted(c.elements())) # c의 요소를 오름차순 정렬에서 나열 "
   ]
  },
  {
   "cell_type": "code",
   "execution_count": 63,
   "metadata": {},
   "outputs": [
    {
     "name": "stdout",
     "output_type": "stream",
     "text": [
      "a : 2\n",
      "b : 1\n",
      "c : 1\n",
      "d : 1\n",
      "e : 1\n",
      "f : 2\n",
      "g : 2\n"
     ]
    }
   ],
   "source": [
    "# collections.Counter 예제 (4) \n",
    "# '문자열'을 입력값으로 함 \n",
    "# 문자열을 입력했을 경우 {문자:개수}의 딕셔너리 형태로 반환해준다. \n",
    "\n",
    "\n",
    "import collections\n",
    "\n",
    "container = collections.Counter() # 빈 공백 \n",
    "container.update(\"aabcdeffgg\") # 해당 문자 업데이트 \n",
    "# print(container) \n",
    "\n",
    "\n",
    "for k, v in container.items():\n",
    "    print(k, ':', v)\n"
   ]
  },
  {
   "cell_type": "code",
   "execution_count": 66,
   "metadata": {},
   "outputs": [
    {
     "name": "stdout",
     "output_type": "stream",
     "text": [
      "Counter()\n",
      "Counter({'a': 1, 'b': 1, 'c': 1, 'd': 1, 'e': 1, 'f': 1, 'g': 1})\n",
      "Counter({'f': 4, 'e': 3, 'a': 1, 'b': 1, 'c': 1, 'd': 1, 'g': 1})\n"
     ]
    }
   ],
   "source": [
    "# collections.Counter 예제 (5) \n",
    "# update() 메소드 사용 \n",
    "# Counter의 값을 갱신하는 것을 의미힌다. \n",
    "# dictionary의 update와 비슷하지만 입력값을 문자열 형태로도 입력가능. \n",
    "\n",
    "import collections  \n",
    "# 문자열  \n",
    "a = collections.Counter()  \n",
    "print(a)  \n",
    "a.update(\"abcdefg\") \n",
    "print(a)  \n",
    "a.update({'f':3, 'e':2}) # abcdefg에 f와 e 추가 \n",
    "print(a) \n",
    "\n"
   ]
  },
  {
   "cell_type": "code",
   "execution_count": 70,
   "metadata": {},
   "outputs": [
    {
     "name": "stdout",
     "output_type": "stream",
     "text": [
      "['H', 'e', 'l', 'l', 'o', 'o', ' ', 'P', 'y', 't', 'h', 'n']\n",
      "[' ', 'H', 'P', 'e', 'h', 'l', 'l', 'n', 'o', 'o', 't', 'y']\n",
      "['a', 'a', 'a', 'a', 'b', 'b', 'd', 'd']\n"
     ]
    }
   ],
   "source": [
    "# collections.Counter 예제 (6) \n",
    "# element() 메소드 사용\n",
    "# 입력된 값의 요소에 해당하는 값을 풀어서 무작위로 반환\n",
    "\n",
    "import collections\n",
    "c = collections.Counter(\"Hello Python\")\n",
    "print(list(c.elements())) # 공백도 요소로 포함 \n",
    "print(sorted(c.elements())) # 대문자 - 소문자 오름차순 정렬 \n",
    "\n",
    "c2 = collections.Counter(a=4, b=2, c=0, d=2)\n",
    "print(sorted(c2.elements()))\n"
   ]
  },
  {
   "cell_type": "code",
   "execution_count": 72,
   "metadata": {},
   "outputs": [
    {
     "name": "stdout",
     "output_type": "stream",
     "text": [
      "Counter({'a': 2, 'b': 2, 'c': 1, 'd': 1})\n",
      "Counter({'a': 3, 'e': 2, 'r': 1, 'o': 1, 'p': 1, 'l': 1, 'n': 1})\n",
      "Counter({'a': 5, 'b': 2, 'e': 2, 'c': 1, 'd': 1, 'r': 1, 'o': 1, 'p': 1, 'l': 1, 'n': 1})\n"
     ]
    }
   ],
   "source": [
    "# collections.Counter 예제 (9) \n",
    "# Counter의 덧셈(연산)\n",
    "\n",
    "import collections \n",
    "a = collections.Counter(['a','b','c','b','d','a'])\n",
    "b = collections.Counter('aaeroplane') \n",
    "\n",
    "print(a)\n",
    "print(b)\n",
    "print(a+b)\n",
    "\n",
    "\n"
   ]
  },
  {
   "cell_type": "code",
   "execution_count": 78,
   "metadata": {},
   "outputs": [
    {
     "name": "stdout",
     "output_type": "stream",
     "text": [
      "Counter({'a': 2, 'b': 2, 'c': 2, 'd': 2})\n",
      "Counter({'b': 3, 'a': 2, 'c': 1, 'e': 1})\n",
      "Counter({'b': 3, 'a': 2, 'c': 2, 'd': 2, 'e': 1})\n"
     ]
    }
   ],
   "source": [
    "# collections.Counter 예제 (11) \n",
    "# Counter의 교집합 & 합집합\n",
    "# 출력값은 딕셔너리 형태\n",
    "\n",
    "import collections \n",
    "\n",
    "a = collections.Counter('aabbccdd') \n",
    "b = collections.Counter('aabbbce')\n",
    "print(a)\n",
    "print(b)\n",
    "# print(a & b) # 교집합\n",
    "print(a | b) # 합집합\n",
    "\n",
    "#print(a+b)\n",
    "\n"
   ]
  },
  {
   "cell_type": "code",
   "execution_count": 9,
   "metadata": {},
   "outputs": [
    {
     "name": "stdout",
     "output_type": "stream",
     "text": [
      "A의 값을 입력하세요 :CADBCAABDACAB\n",
      "B의 값을 입력하세요 :CAADB\n",
      "13\n",
      "5\n",
      "Counter({'A': 2, 'C': 1, 'D': 1, 'B': 1})\n",
      "ADBCA\n",
      "DBCAA\n",
      "CAABD\n",
      "ABDAC\n",
      "BDACA\n",
      "DACAB\n",
      "6\n"
     ]
    }
   ],
   "source": [
    "'''\n",
    "1. 문자열 A와 B가 주어진다.\n",
    "A의 부분문자열 중 문자열 B와 아나그램 관계인 수를 구하여라.\n",
    "(문자의 순서를 바꾸어 같은 문자열이 될 수 있는 것)\n",
    "'''\n",
    "import collections \n",
    "\n",
    "A = input('A의 값을 입력하세요 :')\n",
    "B = input('B의 값을 입력하세요 :')\n",
    "\n",
    "# print(len(A)); print(len(B))\n",
    "\n",
    "\n",
    "answer = 0 \n",
    "check = collections.Counter(B) \n",
    "# print(check) \n",
    "# 전체 A에서 B의 길이로 움직이면 9 \n",
    "\n",
    "for i in range(len(A) - len(B) +1):\n",
    "    \n",
    "    if check == collections.Counter(A[i:i+len(B)]):\n",
    "        # 0:0+5, 1:1+5\n",
    "        print(A[i:i+len(B)])\n",
    "        answer += 1\n",
    "        \n",
    "print(answer)"
   ]
  },
  {
   "cell_type": "code",
   "execution_count": 28,
   "metadata": {},
   "outputs": [
    {
     "data": {
      "text/plain": [
       "[20, 18, 16, 14, 12]"
      ]
     },
     "execution_count": 28,
     "metadata": {},
     "output_type": "execute_result"
    }
   ],
   "source": [
    "# range : 필요한 만큼의 숫자를 만들어내는 유용한 기능\n",
    "# range([start,], stop, [,step])는 for문과 함께 자주 사용되는 함수.\n",
    "# 이 함수는 입력받은 숫자에 해당되는 범위의 값을 반복가능한 객체로\n",
    "# 만들어 리턴한다. \n",
    "\n",
    "# 인수 1개 - 시작 숫자를 지정해 주지 않으면 range 함수는 0부터 시작한다. \n",
    "list(range(5))\n",
    "\n",
    "# 인수 2개 - 입력으로 주어지는 2개의 인수는 시작 숫자와 끝 숫자를 나타낸다. \n",
    "# 단, 끝 숫자는 해당 범위에 포함되지 않는다는 것에 주의. \n",
    "list(range(5, 10)) # 5, 6, 7, 8, 9\n",
    "\n",
    "# 인수 3개 - 세 번째 인수는 숫자 사이의 거리를 말한다. step\n",
    "list(range(1, 10, 3)) # 1부터 9까지, 3씩 거리\n",
    "\n",
    "list(range(20, 10, -2)) # 20부터 11까지 -2씩 "
   ]
  },
  {
   "cell_type": "code",
   "execution_count": 56,
   "metadata": {
    "scrolled": false
   },
   "outputs": [
    {
     "name": "stdout",
     "output_type": "stream",
     "text": [
      "3 9 2\n",
      "0\n",
      "1\n",
      "8\n",
      "8\n",
      "1\n",
      "1\n",
      "7\n",
      "7\n",
      "2\n",
      "3\n",
      "8\n",
      "3\n",
      "5\n",
      "9\n",
      "4\n",
      "7\n",
      "10\n",
      "5\n",
      "9\n",
      "11\n",
      "6\n",
      "11\n",
      "12\n",
      "7\n",
      "13\n",
      "13\n",
      "정답은 :  7 3\n"
     ]
    }
   ],
   "source": [
    "'''\n",
    "2. 일차원 직선 상에서 여러 사람의 집이 있고, 집의 위치는 정수로 표현된다.\n",
    "이 사람들이 회의를 위해 한 위치(그 곳에 집이 없어도 된다)에\n",
    "모이고자 할 때, 모든 사람의 이동거리 합의 최소를 구하여라.\n",
    "예시) 1 6\n",
    "답) 5 \n",
    "'''\n",
    "\n",
    "houses = list(map(int, input().split()))\n",
    "\n",
    "houses.sort() # 임의로 나열된 수를 오름차순 정렬로 지정. \n",
    "# print(houses)\n",
    "# house2 = sorted(house)\n",
    "# print(house2)\n",
    "\n",
    "answer = 16785785 # 임의 최대 리미트 설정\n",
    "pos = 0 \n",
    "\n",
    "for i in range(houses[0],houses[-1]+1): \n",
    "#     print(i)\n",
    "    # list 길이가 어디까지인 줄 모르니, [-1]로 마지막 값 잡고,\n",
    "    # 그 숫자에 -1까지만 들어가므로 +1 해서 실제 범위값을 지정\n",
    "    tmp = 0\n",
    "    for house in houses: # 2, 3, 9\n",
    "#         print(house)\n",
    "        tmp += abs(house - i)\n",
    "        print(tmp)\n",
    "    \n",
    "    if tmp <= answer:\n",
    "        answer = tmp\n",
    "        print(answer)\n",
    "        pos = i\n",
    "    \n",
    "print('정답은 : ', answer, pos)    \n",
    "\n"
   ]
  },
  {
   "cell_type": "code",
   "execution_count": 64,
   "metadata": {},
   "outputs": [
    {
     "name": "stdout",
     "output_type": "stream",
     "text": [
      "1 5 2 1 4 3 4 5 2 4 1\n",
      "5\n",
      "11\n",
      "[1, 1, 1, 2, 2, 3, 4, 4, 4, 5, 5]\n",
      "Counter({1: 3, 4: 3, 2: 2, 5: 2, 3: 1})\n"
     ]
    }
   ],
   "source": [
    "'''\n",
    "3. N개의 숫자로 이루어진 집합이 있을 때, \n",
    "이 집합에서 증가하다가 감소하는 가장 긴 길이의 수의 나열을 찾고, 그 때 수의 개수를 구하여라\n",
    "(수의 나열은 연속되지 않아도 좋지만, 순서는 바뀌면 안 된다.)\n",
    "예시) 1 5 2 1 4 3 4 5 2 4 1\n",
    "답) 7\n",
    "조건을 만족하는 가장 긴 수의 나열은 1 2 3 4 5 2 1로 개수는 7이다.'''\n",
    "# import collections\n",
    "\n",
    "# N = list(map(str, input().split()))\n",
    "# Ziphap = collections.Counter(N)\n",
    "# print(Ziphap)\n",
    "# print(sorted(Ziphap.elements()))\n",
    "\n",
    "import collections\n",
    "\n",
    "m = list(map(int, input().split()))\n",
    "\n",
    "m.sort()\n",
    "\n",
    "print(len(set(m)))\n",
    "print(len(m))\n",
    "print(m)\n",
    "\n",
    "print(collections.Counter(m))\n",
    "\n"
   ]
  },
  {
   "cell_type": "code",
   "execution_count": null,
   "metadata": {},
   "outputs": [],
   "source": [
    "'''\n",
    "4. N개의 정구 상태가 0과 1로 주어진다. 1회의 전구 on/off 행동으로 \n",
    "i번째, i-1번째, i+1번째 전구가 있다면 함께 상태가 반전된다.\n",
    "즉, 인접한 전구가 함꼐 on/off가 될 때,\n",
    "모든 전구의 상태를 0으로 만들수 있는 최소 횟수를 구하여라.\n",
    "단, 불가능한 경우는 없다. \n",
    "예시) 0 0 1 1 1 0 0 1 1 0 1 1 0 0 0 0 0 0 0 0 \n",
    "답) 3 \n",
    "\n",
    "'''"
   ]
  },
  {
   "cell_type": "code",
   "execution_count": 72,
   "metadata": {},
   "outputs": [
    {
     "name": "stdout",
     "output_type": "stream",
     "text": [
      "{0: 0, 1: 0, 2: 0, 3: 0, 4: 0, 5: 0, 6: 0, 7: 0, 8: 0, 9: 0}\n",
      "{0: 2, 1: 13, 2: 6, 3: 2, 4: 2, 5: 2, 6: 2, 7: 2, 8: 2, 9: 2}\n"
     ]
    }
   ],
   "source": [
    "'''\n",
    "숫자 세기 5. 1~N의 수를 나열할 때, 숫자 M이 나오는 횟수를 구하여라(M의 범위는 0~9)\n",
    "예시) N = 22 , M = 1\n",
    "답) 13 \n",
    "'''\n",
    "count={ x:0 for x in range(0,10) }\n",
    "# {0 : 0, 1: 0, 2: 0, 3:0, ...9:0}\n",
    "print(count)\n",
    "\n",
    "for x in range(1,23): # 1부터 22까지의\n",
    "    for i in str(x):\n",
    "        count[int(i)]+=1\n",
    "\n",
    "print(count)\n",
    "\n"
   ]
  },
  {
   "cell_type": "code",
   "execution_count": 77,
   "metadata": {},
   "outputs": [
    {
     "name": "stdout",
     "output_type": "stream",
     "text": [
      "1\n",
      "2\n",
      "3\n",
      "4\n",
      "5\n",
      "6\n",
      "7\n",
      "8\n",
      "9\n",
      "1\n",
      "0\n",
      "1\n",
      "1\n",
      "1\n",
      "2\n",
      "1\n",
      "3\n",
      "1\n",
      "4\n",
      "1\n",
      "5\n",
      "1\n",
      "6\n",
      "1\n",
      "7\n",
      "1\n",
      "8\n",
      "1\n",
      "9\n",
      "2\n",
      "0\n",
      "2\n",
      "1\n",
      "2\n",
      "2\n",
      "0 : 2 개\n",
      "1 : 13 개\n",
      "2 : 6 개\n",
      "3 : 2 개\n",
      "4 : 2 개\n",
      "5 : 2 개\n",
      "6 : 2 개\n",
      "7 : 2 개\n",
      "8 : 2 개\n",
      "9 : 2 개\n"
     ]
    }
   ],
   "source": [
    "'''\n",
    "숫자 세기 5. 1~N의 수를 나열할 때, 숫자 M이 나오는 횟수를 구하여라(M의 범위는 0~9)\n",
    "예시) N = 22 , M = 1\n",
    "답) 13 \n",
    "'''\n",
    "# 다른 풀이 \n",
    "temp=[0,0,0,0,0,0,0,0,0,0] # 리스트 생성\n",
    "for num in range(1,23): #1~22\n",
    "    for tp in (str(num)):# 각 숫자를 배열로 취급하기 위해 string화 시킴\n",
    "        print(tp)\n",
    "        temp[int(tp)]+=1 # 넣을땐 다시 int로 해서 temp에 넣음\n",
    "\n",
    "for i in range(10): # 출력\n",
    "    print(i,\":\",temp[i],\"개\")"
   ]
  },
  {
   "cell_type": "code",
   "execution_count": 87,
   "metadata": {},
   "outputs": [
    {
     "name": "stdout",
     "output_type": "stream",
     "text": [
      "0 : 2 개\n",
      "1 : 13 개\n",
      "2 : 6 개\n",
      "3 : 2 개\n",
      "4 : 2 개\n",
      "5 : 2 개\n",
      "6 : 2 개\n",
      "7 : 2 개\n",
      "8 : 2 개\n",
      "9 : 2 개\n"
     ]
    }
   ],
   "source": [
    "temp = [0,0,0,0,0,0,0,0,0,0]\n",
    "\n",
    "\n",
    "for num in range(1,23):\n",
    "#     print(num)\n",
    "    for i in str(num):\n",
    "#         print(i)\n",
    "        temp[int(i)] += 1\n",
    "# print(temp)\n",
    "\n",
    "for k in range(10): #0~9\n",
    "    print(k, \":\", temp[k], \"개\")"
   ]
  },
  {
   "cell_type": "code",
   "execution_count": 88,
   "metadata": {},
   "outputs": [
    {
     "data": {
      "text/plain": [
       "2"
      ]
     },
     "execution_count": 88,
     "metadata": {},
     "output_type": "execute_result"
    }
   ],
   "source": [
    "temp[9]"
   ]
  },
  {
   "cell_type": "code",
   "execution_count": null,
   "metadata": {},
   "outputs": [],
   "source": []
  }
 ],
 "metadata": {
  "kernelspec": {
   "display_name": "Python 3",
   "language": "python",
   "name": "python3"
  },
  "language_info": {
   "codemirror_mode": {
    "name": "ipython",
    "version": 3
   },
   "file_extension": ".py",
   "mimetype": "text/x-python",
   "name": "python",
   "nbconvert_exporter": "python",
   "pygments_lexer": "ipython3",
   "version": "3.6.5"
  }
 },
 "nbformat": 4,
 "nbformat_minor": 2
}
