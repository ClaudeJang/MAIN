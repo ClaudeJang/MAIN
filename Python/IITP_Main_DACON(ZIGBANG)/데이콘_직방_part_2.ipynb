{
  "nbformat": 4,
  "nbformat_minor": 0,
  "metadata": {
    "colab": {
      "name": "데이콘_직방_part_2.ipynb",
      "version": "0.3.2",
      "provenance": [],
      "collapsed_sections": []
    },
    "kernelspec": {
      "name": "python3",
      "display_name": "Python 3"
    }
  },
  "cells": [
    {
      "cell_type": "markdown",
      "metadata": {
        "id": "FNSe7Ht_OJte",
        "colab_type": "text"
      },
      "source": [
        "## Train/Validation set 나누기\n"
      ]
    },
    {
      "cell_type": "code",
      "metadata": {
        "id": "EDJ4Jo6JN_nl",
        "colab_type": "code",
        "colab": {}
      },
      "source": [
        "#train 1601458\n",
        "#test start from 1601458\n",
        "\n",
        "train =new_df[new_df['transaction_real_price']!=0]\n",
        "\n",
        "# target = target.reset_index(drop=True) # 종속변수도 똑같이 진행 \n",
        "train['weight'] = np.ones(len(train),dtype=np.int8) # 가중치를 1로 두는 열을 하나 만든다. \n",
        "\n",
        "XY_all = train\n",
        "mask = np.random.rand(len(train)) < 0.8\n",
        "\n",
        "XY_train = train[mask] # 훈련 0.8\n",
        "XY_validate= train[~mask] # 검증셋 0.2 \n"
      ],
      "execution_count": 0,
      "outputs": []
    },
    {
      "cell_type": "code",
      "metadata": {
        "id": "seMa_BjTOQjr",
        "colab_type": "code",
        "colab": {}
      },
      "source": [
        "train_seoul = train[train['city'] == 'seoul']\n",
        "train_busan = train[train['city'] == 'busan']"
      ],
      "execution_count": 0,
      "outputs": []
    },
    {
      "cell_type": "code",
      "metadata": {
        "id": "3QZKm_ibOSOh",
        "colab_type": "code",
        "colab": {}
      },
      "source": [
        "#train_xy['transaction_real_price'] # train_y\n",
        "#train_xy # ()columns = features)\n",
        "test_df=new_df[new_df['transaction_real_price']==0]\n",
        "test_df.info()\n",
        "test_df[\"weight\"] = np.ones(len(test_df), dtype=np.int8)\n",
        "\n",
        "# test_df[\"y\"] = new_df['transaction_real_price']\n",
        "\n",
        "test_seoul = test[test['city'] == 'seoul']\n",
        "test_busan = test[test['city'] == 'busan']"
      ],
      "execution_count": 0,
      "outputs": []
    },
    {
      "cell_type": "code",
      "metadata": {
        "id": "eBdncJm-OUjM",
        "colab_type": "code",
        "colab": {}
      },
      "source": [
        "features2\n",
        "# city \n",
        "# transaction_year_month\n",
        "# transaction_date\n",
        "# floor\n",
        "# address_by_law\n",
        "# district\n",
        "# district_group\n",
        "# above_49\n",
        "\n",
        "# del features2[-1]\n",
        "features2.append('city')\n",
        "features2.append('transaction_year_month')\n",
        "features2.append('transaction_date')\n",
        "features2.append('floor')\n",
        "features2.append('address_by_law')\n",
        "features2.append('district')\n",
        "features2.append('district_group')\n",
        "features2.append('above_49')"
      ],
      "execution_count": 0,
      "outputs": []
    },
    {
      "cell_type": "markdown",
      "metadata": {
        "id": "la2i8eORObVM",
        "colab_type": "text"
      },
      "source": [
        "### LightGBM"
      ]
    },
    {
      "cell_type": "code",
      "metadata": {
        "id": "Tp3yBe6EOdH7",
        "colab_type": "code",
        "colab": {}
      },
      "source": [
        "features2\n",
        "XY_train"
      ],
      "execution_count": 0,
      "outputs": []
    },
    {
      "cell_type": "code",
      "metadata": {
        "id": "cgix8iO5OgxJ",
        "colab_type": "code",
        "colab": {}
      },
      "source": [
        "# Set parameter\n",
        "param = {'task' : 'train',\n",
        "         'eta' : 0.1,\n",
        "    'objective' : 'regression',\n",
        "    'boosting_type' : 'gbdt',\n",
        "    'metric' : 'rmse',\n",
        "    'min_data_in_leaf' : 16,\n",
        "    'bagging_fraction' : 1,\n",
        "    'bagging_freq' : 500,\n",
        "    'max_bin' : 255,\n",
        "    'num_leaves' : 107,\n",
        "    'seed' : 48,} "
      ],
      "execution_count": 0,
      "outputs": []
    },
    {
      "cell_type": "code",
      "metadata": {
        "id": "npUNEGhJOjFn",
        "colab_type": "code",
        "colab": {}
      },
      "source": [
        "import lightgbm as lgbm \n",
        "\n",
        "# X_t=XY_train.loc[:,'year_of_completion':'Above_49'] \n",
        "# features_t = X_t.columns\n",
        "# X_v=XY_validate.loc[:,'year_of_completion':'Above_49'] \n",
        "# features_v = X_v.columns\n",
        "\n",
        "train2 = lgbm.Dataset(XY_train[list(features2)], label=XY_train['transaction_real_price'],feature_name=features2)\n",
        "\n",
        "validate2 = lgbm.Dataset(XY_validate[list(features2)], label=XY_validate['transaction_real_price'],\n",
        "                                 feature_name=features2, reference = train2)\n",
        "\n",
        "# evalist = [(train2,'train'),(validate2,'eval')]\n",
        "model = lgbm.train(param, train2, num_boost_round = 4000, valid_sets =validate2, early_stopping_rounds=10) \n",
        "# callback 함수(얼리스토핑)를 통해 과대적합이 일어나자마자 바로 학습을 종료하도록 구성. \n",
        "best_iteration = model.best_iteration # 가장 좋은 반복횟수를 저장,\n"
      ],
      "execution_count": 0,
      "outputs": []
    },
    {
      "cell_type": "code",
      "metadata": {
        "id": "sc_pehkdOloN",
        "colab_type": "code",
        "colab": {}
      },
      "source": [
        "# gridsearch_params = [\n",
        "#    (num_leaves, min_data_in_leaf)\n",
        "#    for num_leaves in range(105, 110) # 20, 21, 22, 23\n",
        "#    for min_data_in_leaf in range(15, 20)] # 5, 6, 7, 8 \n"
      ],
      "execution_count": 0,
      "outputs": []
    },
    {
      "cell_type": "code",
      "metadata": {
        "id": "7TyAk3sVOtA-",
        "colab_type": "code",
        "colab": {}
      },
      "source": [
        "# lightGBM.cv \n",
        "# 교차 검증. 다양한 param들의 수정을 통해 cv의 성능을 확인한다. \n",
        "\n",
        "param = {'task' : 'train',\n",
        "         'eta' : 0.1,\n",
        "    'objective' : 'regression',\n",
        "    'boosting_type' : 'gbdt',\n",
        "    'metric' : 'rmse',\n",
        "#     'min_data_in_leaf' : min_data_in_leaf,\n",
        "    'bagging_fraction' : 0.85,\n",
        "    'bagging_freq' : 100,\n",
        "    'max_bin' : 255,\n",
        "#     'num_leaves' : num_leaves,\n",
        "    'seed' : 48,} \n",
        "\n",
        "# define initial best params ans rmse \n",
        "\n",
        "min_rmse = float(\"inf\")\n",
        "best_params = None\n",
        "# xgboost의 교차검증 기능. 다양한 param들의 수정을 통해 cv의 성능을 확인한다. \n",
        "for num_leaves, min_data_in_leaf in gridsearch_params:\n",
        "    print(\"CV with num_leaves={}, min_data_in_leaf={}\".format(\n",
        "                             num_leaves,\n",
        "                             min_data_in_leaf))\n",
        "    # Update our parameters\n",
        "    param['num_leaves'] = num_leaves\n",
        "    param['min_data_in_leaf'] = min_data_in_leaf\n",
        "    \n",
        "    # Run CV\n",
        "\n",
        "    all_train = lgbm.Dataset(XY_all[list(features2)], label=XY_all['transaction_real_price'],weight=XY_all['weight'], feature_name=features2)\n",
        "\n",
        "    cv_results = lgbm.cv(\n",
        "            param,\n",
        "            all_train,\n",
        "            num_boost_round=4000,\n",
        "            nfold=4,\n",
        "            metrics='rmse',\n",
        "            early_stopping_rounds=15,\n",
        "            stratified=False,\n",
        "            verbose_eval = 50,\n",
        "            )\n",
        "    \n",
        "    # Update best score\n",
        "    mean_rmse = min(cv_results['rmse-mean'])\n",
        "    print('\\tRMSE {}'.format(mean_rmse))\n",
        "    if mean_rmse < min_rmse:\n",
        "      min_rmse = mean_rmse\n",
        "      best_params = (num_leaves,  min_data_in_leaf)\n",
        "\n",
        "print(\"Best params: {}, {}, RMSE: {}\".format(best_params[0], best_params[1], min_rmse))"
      ],
      "execution_count": 0,
      "outputs": []
    },
    {
      "cell_type": "code",
      "metadata": {
        "id": "Oy12TsPOOxkx",
        "colab_type": "code",
        "colab": {}
      },
      "source": [
        "# 전체 훈련 데이터에는 늘어난 양만큼 트리 개수를 늘린다. \n",
        "best_iteration = int(best_iteration * len(XY_all) / len(XY_train)) \n",
        "# 전체 훈련 데이터에 대한 LightGBM 전용 데이터를 생성한다. \n",
        "all_train = lgbm.Dataset(XY_all[list(features2)], label=XY_all['transaction_real_price'],weight=XY_all['weight'], feature_name=features2)\n",
        "# LightGBM 모델 학습 \n",
        "model2 = lgbm.train(param,all_train,num_boost_round= best_iteration)\n",
        "\n",
        "# 변수 중요도를 출력한다.\n",
        "# print('Feature Importance by split:')\n",
        "# for kv in sorted([(k,v) for k,v in zip(features2, model.feature_importance(\"split\"))],\n",
        "#                 key=lambda kv:kv[1], reverse=True):\n",
        "#   print(kv)\n",
        "\n",
        "# print('Feature Importance by gain:')\n",
        "# for kv in sorted([(k,v) for k,v in zip(features2, model.feature_importance(\"gain\"))],\n",
        "#                 key=lambda kv:kv[1], reverse=True):\n",
        "#   print(kv)\n",
        "  \n"
      ],
      "execution_count": 0,
      "outputs": []
    },
    {
      "cell_type": "code",
      "metadata": {
        "id": "P5StBcY9OzKW",
        "colab_type": "code",
        "colab": {}
      },
      "source": [
        "# 테스트 데이터에 대한 예측 결과물을 리턴 \n",
        "pred_test_lgbm = model2.predict(test_df[list(features2)],num_iteration=best_iteration,verbose = 1)\n",
        "pred_test_lgbm"
      ],
      "execution_count": 0,
      "outputs": []
    },
    {
      "cell_type": "code",
      "metadata": {
        "id": "5CfCQ_HXO1kK",
        "colab_type": "code",
        "colab": {}
      },
      "source": [
        "# 곱셈 후 , 제곱근을 구하는 방식으로 앙상블을 수행한다 \n",
        "Y_test = np.sqrt(np.multiply(preds_test_xgb, pred_test_lgbm)) # 기하평균 \n",
        "# Y_test = ((0.5*preds_test_xgb)+(0.5*pred_test_lgbm)) # 단순평균 \n",
        "submission \n",
        "\n",
        "# 현재는 단일 모델을 쓰기 때문에 앙상블 코드를 쓰지 않는다. \n",
        "# XGBoost 모델은 생략."
      ],
      "execution_count": 0,
      "outputs": []
    },
    {
      "cell_type": "code",
      "metadata": {
        "id": "yAiIEJKBO3DT",
        "colab_type": "code",
        "colab": {}
      },
      "source": [
        "df_submission = pd.read_csv('submission.csv')\n",
        "df_test_predict  = pd.DataFrame({'key':df_submission.key, 'transaction_real_price':pred_test_lgbm})\n",
        "\n",
        "\n",
        "df_test_predict.to_csv('submission_0219_1.csv',index=False) \n",
        "# XGBoost and lightGBM Ensemble"
      ],
      "execution_count": 0,
      "outputs": []
    }
  ]
}