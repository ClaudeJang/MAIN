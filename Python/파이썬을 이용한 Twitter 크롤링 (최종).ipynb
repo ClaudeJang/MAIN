{
 "cells": [
  {
   "cell_type": "markdown",
   "metadata": {},
   "source": [
    "#### 특정 단어로 검색된 결과에서 크롤링하기  "
   ]
  },
  {
   "cell_type": "code",
   "execution_count": 7,
   "metadata": {},
   "outputs": [],
   "source": [
    "from bs4 import BeautifulSoup\n",
    "import requests\n",
    "from selenium import webdriver\n",
    "from selenium.webdriver.firefox.firefox_binary import FirefoxBinary\n",
    "from selenium.webdriver.common.desired_capabilities import DesiredCapabilities\n",
    "import time\n",
    "from selenium.webdriver.common.keys import Keys\n",
    "import datetime as dt\n",
    "import urllib.parse\n",
    "from collections import Counter\n",
    "import pandas as pd"
   ]
  },
  {
   "cell_type": "markdown",
   "metadata": {},
   "source": [
    "#### 한글 검색어 경우 해당 라이브러리 import "
   ]
  },
  {
   "cell_type": "code",
   "execution_count": 8,
   "metadata": {},
   "outputs": [],
   "source": [
    "import urllib.parse\n",
    "\n",
    "# keyword= urllib.parse.quote_plus(\"한국\")\n",
    "\n",
    "# url='https://twitter.com/search?q=\"+str(keyword)+\"%20since%3A'+str(startdate)+'%20until%3A'+str(untildate)+'&amp;amp;amp;amp;amp;amp;lang=ko'"
   ]
  },
  {
   "cell_type": "markdown",
   "metadata": {},
   "source": [
    "#### 2018.11.1 - 11.14 까지의 '소확행' 검색결과 크롤링"
   ]
  },
  {
   "cell_type": "code",
   "execution_count": 12,
   "metadata": {},
   "outputs": [
    {
     "name": "stdout",
     "output_type": "stream",
     "text": [
      "이불밖은위험해\n",
      "강다니엘\n",
      "KangDaniel\n",
      "소확행\n",
      "이불밖\n",
      "소확행\n",
      "유민\n",
      "뉴민\n",
      "금요일이니까\n",
      "워라벨\n",
      "소확행\n",
      "tvN\n",
      "XtvN\n",
      "한쌍\n",
      "신인륜지대사\n",
      "부모관찰맞선\n",
      "공개구혼리얼리티\n",
      "7월20일\n",
      "금요일\n",
      "저녁8시\n",
      "첫방송\n",
      "워라벨\n",
      "소확행\n",
      "tvN\n",
      "XtvN\n",
      "한쌍\n",
      "신인륜지대사\n",
      "부모관찰맞선\n",
      "공개구혼리얼리티\n",
      "7월20일\n",
      "금요일\n",
      "저녁8시\n",
      "첫방송\n",
      "mayfairfilter\n",
      "데코n데코\n",
      "낙지삼겹살\n",
      "태능골\n",
      "친구그램\n",
      "안산월피동\n",
      "먹스타그램\n",
      "소확행\n",
      "워라벨\n",
      "소확행\n",
      "tvN\n",
      "XtvN\n",
      "한쌍\n",
      "신인륜지대사\n",
      "부모관찰맞선\n",
      "공개구혼리얼리티\n",
      "7월20일\n",
      "금요일\n",
      "저녁8시\n",
      "첫방송\n",
      "하트시그널\n",
      "럽스타그램\n",
      "연애\n",
      "워라벨\n",
      "소확행\n",
      "tvN\n",
      "XtvN\n",
      "한쌍\n",
      "신인륜지대사\n",
      "부모관찰맞선\n",
      "공개구혼리얼리티\n",
      "7월20일\n",
      "금요일\n",
      "저녁8시\n",
      "첫방송\n",
      "매일매일\n",
      "다이안키튼\n",
      "브렌단글리슨\n",
      "소확행\n",
      "로맨틱코미디\n",
      "힐링플레이스\n",
      "햄스테드\n",
      "절찬상영중\n",
      "슬라임체험\n",
      "소확행\n",
      "홍대\n",
      "소확행\n",
      "작지만\n",
      "확실한\n",
      "행복\n",
      "소확행\n",
      "소소하지만확실한행복\n",
      "배연국\n",
      "글로세움\n",
      "소확행\n",
      "소소하지만확실한행복\n",
      "배연국\n",
      "글로세움\n",
      "소확행\n",
      "교보문고\n",
      "소확행\n",
      "배연국\n",
      "글로세움\n",
      "알라딘\n",
      "소확행\n",
      "배연국\n",
      "글로세움\n",
      "인터파크\n",
      "소확행\n",
      "배연국\n",
      "글로세움\n",
      "예스24\n",
      "소확행\n",
      "배연국\n",
      "글로세움\n",
      "경쟁\n",
      "소확행\n",
      "행복\n",
      "교보문고\n",
      "소확행\n",
      "배연국\n",
      "글로세움\n",
      "인터파크\n",
      "소확행\n",
      "배연국\n",
      "글로세움\n",
      "['이불밖은위험해', '강다니엘', 'KangDaniel', '소확행', '이불밖', '소확행', '유민', '뉴민', '금요일이니까', '워라벨', '소확행', 'tvN', 'XtvN', '한쌍', '신인륜지대사', '부모관찰맞선', '공개구혼리얼리티', '7월20일', '금요일', '저녁8시', '첫방송', '워라벨', '소확행', 'tvN', 'XtvN', '한쌍', '신인륜지대사', '부모관찰맞선', '공개구혼리얼리티', '7월20일', '금요일', '저녁8시', '첫방송', 'mayfairfilter', '데코n데코', '낙지삼겹살', '태능골', '친구그램', '안산월피동', '먹스타그램', '소확행', '워라벨', '소확행', 'tvN', 'XtvN', '한쌍', '신인륜지대사', '부모관찰맞선', '공개구혼리얼리티', '7월20일', '금요일', '저녁8시', '첫방송', '하트시그널', '럽스타그램', '연애', '워라벨', '소확행', 'tvN', 'XtvN', '한쌍', '신인륜지대사', '부모관찰맞선', '공개구혼리얼리티', '7월20일', '금요일', '저녁8시', '첫방송', '매일매일', '다이안키튼', '브렌단글리슨', '소확행', '로맨틱코미디', '힐링플레이스', '햄스테드', '절찬상영중', '슬라임체험', '소확행', '홍대', '소확행', '작지만', '확실한', '행복', '소확행', '소소하지만확실한행복', '배연국', '글로세움', '소확행', '소소하지만확실한행복', '배연국', '글로세움', '소확행', '교보문고', '소확행', '배연국', '글로세움', '알라딘', '소확행', '배연국', '글로세움', '인터파크', '소확행', '배연국', '글로세움', '예스24', '소확행', '배연국', '글로세움', '경쟁', '소확행', '행복', '교보문고', '소확행', '배연국', '글로세움', '인터파크', '소확행', '배연국', '글로세움']\n"
     ]
    }
   ],
   "source": [
    "# Open Selenium\n",
    "binary=FirefoxBinary('C:/Program Files/Mozilla Firefox/firefox.exe')\n",
    "browser=webdriver.Firefox(executable_path='./driver/geckodriver.exe',firefox_binary=binary)\n",
    "\n",
    "startdate=dt.date(year=2018,month=1,day=1) # from\n",
    "untildate=dt.date(year=2018,month=7,day=13) # to \n",
    "\n",
    "# Define the url \n",
    "url='https://twitter.com/search?f=tweets&q=\"+%23소확행+\"%20since%3A'+str(startdate)+'%20until%3A'+str(untildate)+'&amp;amp;amp;amp;amp;amp;lang=ko'\n",
    "browser.get(url)\n",
    "html = browser.page_source\n",
    "soup=BeautifulSoup(html,'html.parser')\n",
    "\n",
    "# check the height \n",
    "last_height = browser.execute_script(\"return document.body.scrollHeight\")\n",
    "\n",
    "SCROLL_PAUSE_TIME = 10 # timesleep 5 secs. \n",
    "\n",
    "while True:\n",
    "    # Scroll down to bottom\n",
    "    browser.execute_script(\"window.scrollTo(0, document.body.scrollHeight);\")\n",
    "\n",
    "    # Wait to load page \n",
    "    time.sleep(SCROLL_PAUSE_TIME) \n",
    "\n",
    "    # Calculate new scroll height and compare with last scroll height \n",
    "    new_height = browser.execute_script(\"return document.body.scrollHeight\")\n",
    "    if new_height == last_height:\n",
    "        break\n",
    "    last_height = new_height\n",
    "\n",
    "# get the tag\n",
    "tweets=soup.find_all(\"p\", {\"class\": \"TweetTextSize\"})\n",
    "# len(tweets)\n",
    "\n",
    "KEYWORD = []\n",
    "\n",
    "# get the element \n",
    "for i in range(len(tweets)):\n",
    "    Keyword = tweets[i].find_all('b')\n",
    "#     print(Keyword)\n",
    "    for j in range(len(Keyword)):\n",
    "        element = Keyword[j].get_text()\n",
    "        print(element)\n",
    "        KEYWORD.append(element)\n",
    "\n",
    "print(KEYWORD)"
   ]
  },
  {
   "cell_type": "code",
   "execution_count": 14,
   "metadata": {},
   "outputs": [
    {
     "data": {
      "text/plain": [
       "119"
      ]
     },
     "execution_count": 14,
     "metadata": {},
     "output_type": "execute_result"
    }
   ],
   "source": [
    "len(KEYWORD)\n",
    "# type(KEYWORD)\n",
    "\n",
    "# tags_word = Counter(KEYWORD).most_common()"
   ]
  },
  {
   "cell_type": "code",
   "execution_count": null,
   "metadata": {},
   "outputs": [],
   "source": [
    "# t = tweets[2].find_all('b')\n",
    "# t[0].get_text()\n",
    "tags_word"
   ]
  },
  {
   "cell_type": "code",
   "execution_count": null,
   "metadata": {},
   "outputs": [],
   "source": [
    "wordname = []\n",
    "wordfreq = []\n",
    "\n",
    "for i in range(len(tags_word)):\n",
    "    wordname.append(tags_word[i][0])\n",
    "    wordfreq.append(tags_word[i][1])\n",
    "    \n",
    "tag_list = pd.DataFrame({'단어명' : wordname, '빈도수':wordfreq})\n",
    "tag_list"
   ]
  },
  {
   "cell_type": "code",
   "execution_count": null,
   "metadata": {},
   "outputs": [],
   "source": [
    "# tweets[0].find_all('b')"
   ]
  },
  {
   "cell_type": "code",
   "execution_count": null,
   "metadata": {},
   "outputs": [],
   "source": [
    "# for i,j in zip(range(len(tweets)),range(len(Keyword))):\n",
    "#     Keyword = tweets[i].find_all('b')\n",
    "#     print(Keyword)\n",
    "#     element = Keyword[j].get_text()\n",
    "#     print(element)\n",
    "#     KEYWORD.append(element)\n",
    "#     KEYWORD"
   ]
  },
  {
   "cell_type": "markdown",
   "metadata": {},
   "source": [
    "#### NLP WordCloud "
   ]
  },
  {
   "cell_type": "code",
   "execution_count": null,
   "metadata": {},
   "outputs": [],
   "source": []
  },
  {
   "cell_type": "code",
   "execution_count": null,
   "metadata": {},
   "outputs": [],
   "source": []
  }
 ],
 "metadata": {
  "kernelspec": {
   "display_name": "Python 3",
   "language": "python",
   "name": "python3"
  },
  "language_info": {
   "codemirror_mode": {
    "name": "ipython",
    "version": 3
   },
   "file_extension": ".py",
   "mimetype": "text/x-python",
   "name": "python",
   "nbconvert_exporter": "python",
   "pygments_lexer": "ipython3",
   "version": "3.6.5"
  }
 },
 "nbformat": 4,
 "nbformat_minor": 2
}
