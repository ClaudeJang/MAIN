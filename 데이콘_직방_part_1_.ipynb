{
  "nbformat": 4,
  "nbformat_minor": 0,
  "metadata": {
    "colab": {
      "name": "데이콘_직방_part 1.",
      "version": "0.3.2",
      "provenance": [],
      "collapsed_sections": [],
      "include_colab_link": true
    },
    "kernelspec": {
      "name": "python3",
      "display_name": "Python 3"
    }
  },
  "cells": [
    {
      "cell_type": "markdown",
      "metadata": {
        "id": "view-in-github",
        "colab_type": "text"
      },
      "source": [
        "<a href=\"https://colab.research.google.com/github/ClaudeJang/MAIN/blob/master/%EB%8D%B0%EC%9D%B4%EC%BD%98_%EC%A7%81%EB%B0%A9_part_1_.ipynb\" target=\"_parent\"><img src=\"https://colab.research.google.com/assets/colab-badge.svg\" alt=\"Open In Colab\"/></a>"
      ]
    },
    {
      "cell_type": "code",
      "metadata": {
        "id": "xE2woRcLKAbt",
        "colab_type": "code",
        "colab": {}
      },
      "source": [
        "# -*- coding: utf_8 -*- \n",
        "# 파일을 utf-8로 바꾸어 준다. \n",
        "\n",
        "# Data processing \n",
        "import numpy as np \n",
        "import pandas as pd \n",
        "import os \n",
        "# Gradient Boosting \n",
        "import lightgbm as lgbm\n",
        "import xgboost as xgb \n",
        "\n",
        "# os.listdir('./Colab Notebooks/data/')\n",
        "os.chdir('./Colab Notebooks/data/')\n",
        "\n",
        "\n",
        "pd.set_option('display.max_columns', None)  \n",
        "pd.set_option('display.expand_frame_repr', False)\n",
        "pd.set_option('max_colwidth', -1) \n",
        "# 더 많은 열을 보기 위해 출력 디스플레이를 넓히는 방법 "
      ],
      "execution_count": 0,
      "outputs": []
    },
    {
      "cell_type": "code",
      "metadata": {
        "id": "JO_xPoRHKlXe",
        "colab_type": "code",
        "colab": {}
      },
      "source": [
        "train = pd.read_csv('train.csv')\n",
        "test = pd.read_csv('test.csv') \n",
        "rates = pd.read_csv('interest_rates.csv', index_col = 0)\n",
        "subway = pd.read_csv('subway_train.csv')\n",
        "\n",
        "rates=rates[['mortgage loan', 'year_month']] "
      ],
      "execution_count": 0,
      "outputs": []
    },
    {
      "cell_type": "code",
      "metadata": {
        "id": "JB38LIh-Kox7",
        "colab_type": "code",
        "colab": {}
      },
      "source": [
        "rates.columns = rates.columns.str.replace('year_month', 'transaction_year_month')\n",
        "rates.columns = rates.columns.str.replace('mortgage loan', 'mortgage_loan')"
      ],
      "execution_count": 0,
      "outputs": []
    },
    {
      "cell_type": "code",
      "metadata": {
        "id": "hn4uQx6NKrFx",
        "colab_type": "code",
        "colab": {}
      },
      "source": [
        "subway.drop(['latitude','longitude'], axis = 1, inplace = True) "
      ],
      "execution_count": 0,
      "outputs": []
    },
    {
      "cell_type": "markdown",
      "metadata": {
        "id": "6zad-0bQKsqI",
        "colab_type": "text"
      },
      "source": [
        "## Data Preprocessing\n",
        "\n",
        "### Dropping"
      ]
    },
    {
      "cell_type": "code",
      "metadata": {
        "id": "_M39UUBxKyW1",
        "colab_type": "code",
        "colab": {}
      },
      "source": [
        "drop = ['heat_type','heat_fuel','front_door_structure'] \n",
        "# 범주형 변수에 해당하는 난방 타입과 연료, 문 구조등을 사전에 제외한다. + 결측치가 존재하는 feature\n",
        "train.drop(drop, axis = 1, inplace=True)\n",
        "test.drop(drop, axis =1, inplace=True)"
      ],
      "execution_count": 0,
      "outputs": []
    },
    {
      "cell_type": "code",
      "metadata": {
        "id": "_DcvR-JFK3PQ",
        "colab_type": "code",
        "colab": {}
      },
      "source": [
        "all_ = train.append(test)\n",
        "# train 1601458 \n",
        "# test start from 1601458 \n",
        "all_=pd.merge(all_,rates)"
      ],
      "execution_count": 0,
      "outputs": []
    },
    {
      "cell_type": "code",
      "metadata": {
        "id": "pnmClLPvK5We",
        "colab_type": "code",
        "colab": {}
      },
      "source": [
        "all_"
      ],
      "execution_count": 0,
      "outputs": []
    },
    {
      "cell_type": "markdown",
      "metadata": {
        "id": "Dtx6IfgNK_cm",
        "colab_type": "text"
      },
      "source": [
        "### Feature Engineering"
      ]
    },
    {
      "cell_type": "code",
      "metadata": {
        "id": "nOjMlL6AK8mt",
        "colab_type": "code",
        "colab": {}
      },
      "source": [
        "trans_date = {'1~10' : '월초', '11-20':'월중','21-28':'월말', '21~30':'월말','21~31' : '월말'}\n",
        "all_['transaction_date'] = [trans_date[i] for i in all_['transaction_date']]"
      ],
      "execution_count": 0,
      "outputs": []
    },
    {
      "cell_type": "code",
      "metadata": {
        "id": "kEF65Ld4Lcm9",
        "colab_type": "code",
        "colab": {}
      },
      "source": [
        "all_head()"
      ],
      "execution_count": 0,
      "outputs": []
    },
    {
      "cell_type": "code",
      "metadata": {
        "id": "7TQrwoNnLddq",
        "colab_type": "code",
        "colab": {}
      },
      "source": [
        "# 날짜 데이터를 숫자로 변환 \n",
        "# 월 단위 숫자로 변환. \n",
        "# train['transaction_year_month'] = train['transaction_year_month'].astype(str)\n",
        "\n",
        "def date_to_int(df):\n",
        "    df['transaction_year_month'] = df['transaction_year_month'].astype(str)\n",
        "    Y = [int(a[:4]) for a in df['transaction_year_month']]\n",
        "    M = [int(a[4:]) for a in df['transaction_year_month']]\n",
        "    int_date=[]\n",
        "    for i in range(len(Y)):\n",
        "        int_date.append((Y[i] - 2006) * 12 +M[i])\n",
        "    df['transaction_int_date'] = int_date\n",
        "    \n",
        "    return df\n",
        "# int(train.transaction_year_month[0][:4])\n",
        "# train['transaction_int_date'] = train['transaction_year_month'].map(date_to_int).astype(np.int8)\n",
        "\n",
        "\n",
        "# 날짜 데이터를 수치형 변수가 아니라 좀 더 활용하는 방안을 찾아야 함."
      ],
      "execution_count": 0,
      "outputs": []
    },
    {
      "cell_type": "code",
      "metadata": {
        "id": "RXPsZEjpLdge",
        "colab_type": "code",
        "colab": {}
      },
      "source": [
        "test = date_to_int(all_) # train / test 의 test가 아니라, 의미없는 'test' 이름으로 지정.\n",
        "test.info()"
      ],
      "execution_count": 0,
      "outputs": []
    },
    {
      "cell_type": "markdown",
      "metadata": {
        "id": "mb1JgM5CLl-y",
        "colab_type": "text"
      },
      "source": [
        "### Address"
      ]
    },
    {
      "cell_type": "code",
      "metadata": {
        "id": "75MTvSDnLdjf",
        "colab_type": "code",
        "colab": {}
      },
      "source": [
        "test['address_by_law'] = test['address_by_law'].astype(str)\n",
        "test['district'] = test['address_by_law'].apply(lambda x: x[:5]) # 구별 코드까지 지정. \n",
        "test['dong'] = test['address_by_law'].apply(lambda x: x[5:])"
      ],
      "execution_count": 0,
      "outputs": []
    },
    {
      "cell_type": "code",
      "metadata": {
        "id": "9ky1fLIdLdpW",
        "colab_type": "code",
        "colab": {}
      },
      "source": [
        "# 구별 코드에 따라 권역으로 나눈다. seoul / pusan \n",
        "\n",
        "list4 = []\n",
        "s_center = ['11110','11140','11170']\n",
        "s_eastnorth = ['11200','11215','11230','11260','11290','11305','11320','11350'] \n",
        "s_westnorth = ['11380','11410','11440'] \n",
        "s_westsouth = ['11470','11500','11530','11545','11560','11590','11620']\n",
        "s_eastsouth = ['11650','11680','11710','11740']\n",
        "p_center = ['26110','26140','26170','26200','26230','26290','26470','26500']\n",
        "p_east = ['26350','26410','26260','26710']\n",
        "p_west=['26320','26440','26530','26380']\n",
        "\n",
        "for i in test['district']:\n",
        "    if i in s_center:\n",
        "        list4.append('도심권')\n",
        "    elif i in s_eastnorth:\n",
        "        list4.append('동북권')\n",
        "    elif i in s_westnorth:\n",
        "        list4.append('서북권')\n",
        "    elif i in s_westsouth:\n",
        "        list4.append('서남권')\n",
        "    elif i in s_eastsouth:\n",
        "        list4.append('동남권')\n",
        "    elif i in p_center:\n",
        "        list4.append('중부산권')\n",
        "    elif i in p_east:\n",
        "        list4.append('동부산권')\n",
        "    else:\n",
        "        list4.append('서부산권')"
      ],
      "execution_count": 0,
      "outputs": []
    },
    {
      "cell_type": "code",
      "metadata": {
        "id": "FcF5PIVbLdsH",
        "colab_type": "code",
        "colab": {}
      },
      "source": [
        "test['district_group'] = list4 \n",
        "# 권역을 새로운 열로 지정. \n",
        "test.info()"
      ],
      "execution_count": 0,
      "outputs": []
    },
    {
      "cell_type": "code",
      "metadata": {
        "id": "e-FFFE03LdzZ",
        "colab_type": "code",
        "colab": {}
      },
      "source": [
        "test['city'] = test['city'].apply(lambda x :'seoul' if x == 1 else 'busan' )\n",
        "test['floor'] = test['floor'].apply(lambda x : '저층' if x < 8 else '중층' if 8<=x<18 else '고층' if 18<=x<=30 else '초고층') \n",
        "test['APT_area'] = (test['exclusive_use_area'] + test['supply_area']) * 0.3025\n",
        "test['building_year'] = 2018 - test['year_of_completion'] \n",
        "# 람다 함수와 if 문을 사용하여 간편하게 category로 만들었습니다. \n",
        "test['above_49'] = test['building_year'].apply(lambda x : 'Yes' if x == 49 else 'No' )"
      ],
      "execution_count": 0,
      "outputs": []
    },
    {
      "cell_type": "code",
      "metadata": {
        "id": "slOC59qhLd40",
        "colab_type": "code",
        "colab": {}
      },
      "source": [
        "# drop = ['transaction_year_month','latitude','longitude','address_by_law','room_id','district','exclusive_use_area','supply_area']\n",
        "\n",
        "# test.drop(drop, axis= 1, inplace= True) # 남은 구별 수치형 제거 \n",
        "# test.info()\n",
        "\n",
        "test.set_index('key',inplace =True)"
      ],
      "execution_count": 0,
      "outputs": []
    },
    {
      "cell_type": "code",
      "metadata": {
        "id": "66ZccVWQLd-o",
        "colab_type": "code",
        "colab": {}
      },
      "source": [
        "# Data preprocess and feature engineering  \n",
        "def apply_transform(test):\n",
        "    features = ['apartment_id','city', 'transaction_year_month', 'transaction_date',\n",
        "       'year_of_completion', 'exclusive_use_area', 'floor', 'latitude',\n",
        "       'longitude', 'address_by_law', \n",
        "       'total_household_count_in_sites', 'apartment_building_count_in_sites',\n",
        "       'room_id',\n",
        "       'supply_area', 'total_household_count_of_area_type','household_loan',\n",
        "       'mean_loan', 'mortgage_loan','subway_trans', 'subway_ordi',\n",
        "       'sub_trans_yesorno', 'sub_ordi_yesorno',\n",
        "       'transaction_int_date', 'district','dong', 'district_group', 'APT_area',\n",
        "       'building_year', 'above_49']\n",
        "    \n",
        "    # 주차장 결측치를 평균값으로 대체한다. + 방, 화장실, 최고층 동, 최저층 동 \n",
        "    test['total_parking_capacity_in_site'] = test['total_parking_capacity_in_site'].fillna(test['total_parking_capacity_in_site'].mean()).astype(np.int16)\n",
        "    features.append('total_parking_capacity_in_site')\n",
        "    \n",
        "    test['room_count'] = test['room_count'].fillna(test['room_count'].mean()).astype(np.int16)\n",
        "    features.append('room_count')\n",
        "    test['bathroom_count'] = test['bathroom_count'].fillna(test['bathroom_count'].mean()).astype(np.int16)\n",
        "    features.append('bathroom_count')\n",
        "    test['tallest_building_in_sites'] = test['tallest_building_in_sites'].fillna(0.0).astype(np.int16)\n",
        "    features.append('tallest_building_in_sites')\n",
        "    test['lowest_building_in_sites'] = test['lowest_building_in_sites'].fillna(0.0).astype(np.int16)\n",
        "    features.append('lowest_building_in_sites')\n",
        "    target = test['transaction_real_price']\n",
        "    test.drop(['transaction_real_price'],axis=1, inplace = True)\n",
        "\n",
        "## 더미변수로 만들지 않고 뒷 부분에서 category로 변수 타입을 바꿉니다. -> lighGBM에서 과적합을 막고 성능을 높이는 방법. \n",
        "\n",
        "#     # one-hot encoding 수행()\n",
        "#     test1=pd.get_dummies(test['transaction_date'],prefix='date')\n",
        "#     features.append('date_월초')\n",
        "#     features.append('date_월중')\n",
        "#     features.append('date_월말')\n",
        "#     test2=pd.get_dummies(test['city'],prefix='city')\n",
        "#     features.append('city_seoul')\n",
        "#     features.append('city_busan')\n",
        "#     test3=pd.get_dummies(test['floor'],prefix='floor')\n",
        "#     features.append('floor_저층')\n",
        "#     features.append('floor_중층')\n",
        "#     features.append('floor_고층')\n",
        "#     features.append('floor_초고층')\n",
        "#     test4=pd.get_dummies(test['district_group'],prefix='district')\n",
        "#     features.append('district_도심권')\n",
        "#     features.append('district_동북권')\n",
        "#     features.append('district_서북권')\n",
        "#     features.append('district_서남권')\n",
        "#     features.append('district_동남권')\n",
        "#     features.append('district_중부산권')\n",
        "#     features.append('district_서부산권')\n",
        "#     features.append('district_동부산권')\n",
        "#     test=pd.concat([test,test1,test2,test3,test4],axis=1) \n",
        "#     test=test.drop(columns=['city','floor','district_group','transaction_date'])\n",
        "    return test, tuple(features), target\n",
        "    "
      ],
      "execution_count": 0,
      "outputs": []
    },
    {
      "cell_type": "code",
      "metadata": {
        "id": "2JbG7Qk3Ld7s",
        "colab_type": "code",
        "colab": {}
      },
      "source": [
        "test, features, target = apply_transform(test) \n",
        "# test는 주요 변수를 포함한 훈련/테스트 데이터 통합 데이터프레임 \n",
        "# features는 학습에 사용하기 위한 변수를 기록한 튜플 "
      ],
      "execution_count": 0,
      "outputs": []
    },
    {
      "cell_type": "code",
      "metadata": {
        "id": "S3CKM0KCLd3Y",
        "colab_type": "code",
        "colab": {}
      },
      "source": [
        "features2=list(features)\n",
        "test.info()\n",
        "## \n",
        "features2.remove('city')\n",
        "features2.remove('transaction_year_month')\n",
        "features2.remove('transaction_date')\n",
        "features2.remove('floor')\n",
        "features2.remove('address_by_law')\n",
        "features2.remove('district')\n",
        "features2.remove('district_group')\n",
        "features2.remove('above_49')"
      ],
      "execution_count": 0,
      "outputs": []
    },
    {
      "cell_type": "code",
      "metadata": {
        "id": "XoaQcTl5Ldwh",
        "colab_type": "code",
        "colab": {}
      },
      "source": [
        "cat_cols = [col for col in test.columns if test[col].dtype in ['O']]\n",
        "cat_cols_df=test[cat_cols]\n",
        "test.drop(cat_cols, axis=1, inplace=True)\n",
        "test.info()\n",
        "# cat_cols\n",
        "# 카테고리 형 변수로 만들기 위해 object 변수들을 cat_cols에 저장하고 원래 데이터프레임에서 제거 "
      ],
      "execution_count": 0,
      "outputs": []
    },
    {
      "cell_type": "code",
      "metadata": {
        "id": "sCzQ4-VWLdua",
        "colab_type": "code",
        "colab": {}
      },
      "source": [
        "for i in enumerate(cat_cols):\n",
        "  ca=i[1]\n",
        "  print(ca)\n",
        "  cat_cols_df[ca] = cat_cols_df[ca].astype('category') \n",
        "  \n",
        " # cat_cols의 타입을 category로 변경. -> lightGBM에서 학습가능하다. "
      ],
      "execution_count": 0,
      "outputs": []
    },
    {
      "cell_type": "code",
      "metadata": {
        "id": "e1hLusfhLdmx",
        "colab_type": "code",
        "colab": {}
      },
      "source": [
        "for i in enumerate(cat_cols):\n",
        "  ca=i[1]\n",
        "  print(ca)\n",
        "  cat_cols_df[ca] = cat_cols_df[ca].astype('category') \n",
        "  \n",
        " # cat_cols의 타입을 category로 변경. -> lightGBM에서 학습가능하다. "
      ],
      "execution_count": 0,
      "outputs": []
    },
    {
      "cell_type": "code",
      "metadata": {
        "id": "M4RtHh7tMExH",
        "colab_type": "code",
        "colab": {}
      },
      "source": [
        "robust_scaled_df = test\n",
        "robust_scaled_df"
      ],
      "execution_count": 0,
      "outputs": []
    },
    {
      "cell_type": "code",
      "metadata": {
        "id": "Iyl60NxbMKjd",
        "colab_type": "code",
        "colab": {}
      },
      "source": [
        "cat_cols_df # reset_index 필요 \n",
        "# features2"
      ],
      "execution_count": 0,
      "outputs": []
    },
    {
      "cell_type": "code",
      "metadata": {
        "id": "lHSTvnXbMRII",
        "colab_type": "code",
        "colab": {}
      },
      "source": [
        "cat_cols_df # reset_index 필요 \n",
        "# features2"
      ],
      "execution_count": 0,
      "outputs": []
    },
    {
      "cell_type": "code",
      "metadata": {
        "id": "v6uSJnx2MSct",
        "colab_type": "code",
        "colab": {}
      },
      "source": [
        "dataframe=pd.concat([robust_scaled_df,cat_cols_df], axis=1)\n",
        "dataframe.shape\n",
        "dataframe.info()"
      ],
      "execution_count": 0,
      "outputs": []
    },
    {
      "cell_type": "code",
      "metadata": {
        "id": "tnTP5zhIMU1k",
        "colab_type": "code",
        "colab": {}
      },
      "source": [
        "dataframe=pd.concat([robust_scaled_df,cat_cols_df], axis=1)\n",
        "dataframe.shape\n",
        "dataframe.info()\n",
        "new_df.to_csv('train_test.csv', index = False) # 결과 csv 파일 저장. "
      ],
      "execution_count": 0,
      "outputs": []
    }
  ]
}