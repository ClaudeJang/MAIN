{
  "nbformat": 4,
  "nbformat_minor": 0,
  "metadata": {
    "colab": {
      "name": "국토교통부 보도자료_주택토지 웹크롤링 제목따기",
      "provenance": [],
      "collapsed_sections": [],
      "authorship_tag": "ABX9TyPI0zB72djuQ75INuxz6boM",
      "include_colab_link": true
    },
    "kernelspec": {
      "name": "python3",
      "display_name": "Python 3"
    }
  },
  "cells": [
    {
      "cell_type": "markdown",
      "metadata": {
        "id": "view-in-github",
        "colab_type": "text"
      },
      "source": [
        "<a href=\"https://colab.research.google.com/github/ClaudeJang/MAIN/blob/master/%EA%B5%AD%ED%86%A0%EA%B5%90%ED%86%B5%EB%B6%80_%EB%B3%B4%EB%8F%84%EC%9E%90%EB%A3%8C_%EC%A3%BC%ED%83%9D%ED%86%A0%EC%A7%80_%EC%9B%B9%ED%81%AC%EB%A1%A4%EB%A7%81_%EC%A0%9C%EB%AA%A9%EB%94%B0%EA%B8%B0.ipynb\" target=\"_parent\"><img src=\"https://colab.research.google.com/assets/colab-badge.svg\" alt=\"Open In Colab\"/></a>"
      ]
    },
    {
      "cell_type": "code",
      "metadata": {
        "id": "ApgDY8vX-Bzk",
        "outputId": "49511a54-c24c-4709-c7e5-338f998feb18",
        "colab": {
          "base_uri": "https://localhost:8080/",
          "height": 104
        }
      },
      "source": [
        "! pip install requests\n",
        "! pip install beautifulsoup4"
      ],
      "execution_count": null,
      "outputs": [
        {
          "output_type": "stream",
          "text": [
            "Requirement already satisfied: requests in /usr/local/lib/python3.6/dist-packages (2.23.0)\n",
            "Requirement already satisfied: chardet<4,>=3.0.2 in /usr/local/lib/python3.6/dist-packages (from requests) (3.0.4)\n",
            "Requirement already satisfied: urllib3!=1.25.0,!=1.25.1,<1.26,>=1.21.1 in /usr/local/lib/python3.6/dist-packages (from requests) (1.24.3)\n",
            "Requirement already satisfied: idna<3,>=2.5 in /usr/local/lib/python3.6/dist-packages (from requests) (2.10)\n",
            "Requirement already satisfied: certifi>=2017.4.17 in /usr/local/lib/python3.6/dist-packages (from requests) (2020.6.20)\n"
          ],
          "name": "stdout"
        }
      ]
    },
    {
      "cell_type": "code",
      "metadata": {
        "id": "DBeTAPle_WFX"
      },
      "source": [
        "import requests\n",
        "import re\n",
        "import pandas as pd \n",
        "import os \n"
      ],
      "execution_count": null,
      "outputs": []
    },
    {
      "cell_type": "code",
      "metadata": {
        "id": "TYV8fQ4Q-FVK"
      },
      "source": [
        "def get_html(url):\n",
        "  _html = \"\"\n",
        "  resp = requests.get(url)\n",
        "  if resp.status_code == 200:\n",
        "    _html = resp.text\n",
        "  return _html\n",
        "\n",
        "def cleansing(text):\n",
        "  pattern ='[\\n|\\t]'\n",
        "  text = re.sub(pattern=pattern, repl=' ' ,string = text)\n",
        "  #pattern = '[\\x]'\n",
        "  #text = re.sub(pattern=pattern, repl=' ' ,string = text)\n",
        "  text = text.replace('\\xa0[4]','')\n",
        "  text = text.replace('\\xa0[2]','')\n",
        "  text = text.replace('\\xa0[3]','')\n",
        "  text = text.replace('\\xa0[1]','')\n",
        "  text = text.replace('\\xa0[2]','')\n",
        "  text = text.replace('\\xa0[9]','')\n",
        "  text = text.replace('  ','')\n",
        "  return(text)\n"
      ],
      "execution_count": null,
      "outputs": []
    },
    {
      "cell_type": "code",
      "metadata": {
        "id": "0XYtoGGCGYwm"
      },
      "source": [
        "ran = range(1,3)\n",
        "titles = []\n",
        "from bs4 import BeautifulSoup\n",
        "# 주택토지는 p_sec_2 \n",
        "URL = \"http://www.molit.go.kr/USR/NEWS/m_71/lst.jsp?search_section=p_sec_2&search=&search_gubun=1&search_gubun1=all&srch_usr_titl=Y&srch_usr_ctnt=&psize=10&search_regdate_s=2020-09-01&search_regdate_e=2020-09-22&srch_cate=&srch_dept_nm=&search_kind=&search_gbn=&lst_gbn=T&lcmspage=\"\n",
        "for r in ran:\n",
        "  t = URL+str(r)\n",
        "  titles.append(t)"
      ],
      "execution_count": null,
      "outputs": []
    },
    {
      "cell_type": "code",
      "metadata": {
        "id": "EbOb_GUSHHfu",
        "outputId": "215062e1-a558-49ab-fcf4-1677f6666a55",
        "colab": {
          "base_uri": "https://localhost:8080/",
          "height": 72
        }
      },
      "source": [
        "# titles"
      ],
      "execution_count": null,
      "outputs": [
        {
          "output_type": "execute_result",
          "data": {
            "text/plain": [
              "['http://www.molit.go.kr/USR/NEWS/m_71/lst.jsp?search_section=p_sec_2&search=&search_gubun=1&search_gubun1=all&srch_usr_titl=Y&srch_usr_ctnt=&psize=10&search_regdate_s=2020-09-01&search_regdate_e=2020-09-22&srch_cate=&srch_dept_nm=&search_kind=&search_gbn=&lst_gbn=T&lcmspage=1',\n",
              " 'http://www.molit.go.kr/USR/NEWS/m_71/lst.jsp?search_section=p_sec_2&search=&search_gubun=1&search_gubun1=all&srch_usr_titl=Y&srch_usr_ctnt=&psize=10&search_regdate_s=2020-09-01&search_regdate_e=2020-09-22&srch_cate=&srch_dept_nm=&search_kind=&search_gbn=&lst_gbn=T&lcmspage=2']"
            ]
          },
          "metadata": {
            "tags": []
          },
          "execution_count": 154
        }
      ]
    },
    {
      "cell_type": "code",
      "metadata": {
        "id": "J-05qpMsI_1s"
      },
      "source": [
        "''' \n",
        "second =titles[1]\n",
        "html = get_html(second)\n",
        "soup = BeautifulSoup(html,'html.parser')\n",
        "b = soup.find_all('td')\n",
        "'''"
      ],
      "execution_count": null,
      "outputs": []
    },
    {
      "cell_type": "code",
      "metadata": {
        "id": "QkEj6A1lJS4A",
        "outputId": "1d360936-c7e5-4ba1-f757-521051523111",
        "colab": {
          "base_uri": "https://localhost:8080/",
          "height": 34
        }
      },
      "source": [
        "# int(len(b)/5)"
      ],
      "execution_count": null,
      "outputs": [
        {
          "output_type": "execute_result",
          "data": {
            "text/plain": [
              "9"
            ]
          },
          "metadata": {
            "tags": []
          },
          "execution_count": 156
        }
      ]
    },
    {
      "cell_type": "code",
      "metadata": {
        "id": "uuTDKeLD-slX"
      },
      "source": [
        "list_article = []\n",
        "\n",
        "for t in titles:\n",
        "\n",
        "  html = get_html(t)\n",
        "  #print(html)\n",
        "  soup = BeautifulSoup(html, 'html.parser')\n",
        "  a = soup.find_all('td')\n",
        "\n",
        "  if len(a) == 50:\n",
        "    for i in range(10):\n",
        "\n",
        "      k = a[1+5*i].text.strip()\n",
        "      list_article.append(k)\n",
        "\n",
        "  else:\n",
        "    for i in range(int(len(a)/5)):\n",
        "\n",
        "      k = a[1+5*i].text.strip()\n",
        "      list_article.append(k)\n",
        "\n",
        "final = []\n",
        "for a in list_article:\n",
        "  f = cleansing(a)\n",
        "  final.append(f)\n"
      ],
      "execution_count": null,
      "outputs": []
    },
    {
      "cell_type": "code",
      "metadata": {
        "id": "oizDUMJHBBqm"
      },
      "source": [
        "df = pd.DataFrame(final)\n",
        "df.columns = ['제목']\n",
        "df.to_excel('test.xlsx')\n"
      ],
      "execution_count": null,
      "outputs": []
    },
    {
      "cell_type": "code",
      "metadata": {
        "id": "bE40VFoDE_qo",
        "outputId": "dd0872d4-1337-4c92-beae-df5e456b0158",
        "colab": {
          "base_uri": "https://localhost:8080/",
          "height": 638
        }
      },
      "source": [
        "df"
      ],
      "execution_count": null,
      "outputs": [
        {
          "output_type": "execute_result",
          "data": {
            "text/html": [
              "<div>\n",
              "<style scoped>\n",
              "    .dataframe tbody tr th:only-of-type {\n",
              "        vertical-align: middle;\n",
              "    }\n",
              "\n",
              "    .dataframe tbody tr th {\n",
              "        vertical-align: top;\n",
              "    }\n",
              "\n",
              "    .dataframe thead th {\n",
              "        text-align: right;\n",
              "    }\n",
              "</style>\n",
              "<table border=\"1\" class=\"dataframe\">\n",
              "  <thead>\n",
              "    <tr style=\"text-align: right;\">\n",
              "      <th></th>\n",
              "      <th>제목</th>\n",
              "    </tr>\n",
              "  </thead>\n",
              "  <tbody>\n",
              "    <tr>\n",
              "      <th>0</th>\n",
              "      <td>공공참여 가로주택 본궤도 진입…23일부터 2차 합동공모</td>\n",
              "    </tr>\n",
              "    <tr>\n",
              "      <th>1</th>\n",
              "      <td>주택품질은 높이고 임대료는 낮춰 장기간 거주할 수 있는 임대주택을 공급하겠습니다.</td>\n",
              "    </tr>\n",
              "    <tr>\n",
              "      <th>2</th>\n",
              "      <td>8월 주택 매매거래량은 8.5만 건, 전월세 거래량은 17.5만 건</td>\n",
              "    </tr>\n",
              "    <tr>\n",
              "      <th>3</th>\n",
              "      <td>국토부·서울시, 21일부터 공공재개발 후보지 공모</td>\n",
              "    </tr>\n",
              "    <tr>\n",
              "      <th>4</th>\n",
              "      <td>'20년 4분기(10월~12월) 전국 아파트 80,635세대, 서울 아파트 12,0...</td>\n",
              "    </tr>\n",
              "    <tr>\n",
              "      <th>5</th>\n",
              "      <td>분양가상한제 기본형건축비 9월 정기 고시…15일부터 적용</td>\n",
              "    </tr>\n",
              "    <tr>\n",
              "      <th>6</th>\n",
              "      <td>국토부, 공간정보 창업 아이디어 발굴·육성 나선다</td>\n",
              "    </tr>\n",
              "    <tr>\n",
              "      <th>7</th>\n",
              "      <td>국토부·우정사업본부·LH 우체국 복합개발 업무협약 체결</td>\n",
              "    </tr>\n",
              "    <tr>\n",
              "      <th>8</th>\n",
              "      <td>감정평가, 시장개선을 통해 새로운 활로 모색</td>\n",
              "    </tr>\n",
              "    <tr>\n",
              "      <th>9</th>\n",
              "      <td>빈 오피스·상가, 민간임대주택으로 전환 쉬워진다</td>\n",
              "    </tr>\n",
              "    <tr>\n",
              "      <th>10</th>\n",
              "      <td>10일부터 민간임대주택 공급 위한 3차 민간제안사업 공모</td>\n",
              "    </tr>\n",
              "    <tr>\n",
              "      <th>11</th>\n",
              "      <td>재건축부담금 국가귀속분 지자체 배분 평가지표 현실화</td>\n",
              "    </tr>\n",
              "    <tr>\n",
              "      <th>12</th>\n",
              "      <td>「제6차 부동산시장 점검 관계장관회의」 개최</td>\n",
              "    </tr>\n",
              "    <tr>\n",
              "      <th>13</th>\n",
              "      <td>수도권 37만호 집중 공급 본격 시동 !</td>\n",
              "    </tr>\n",
              "    <tr>\n",
              "      <th>14</th>\n",
              "      <td>경기북부에 33만호 공급 … 남양주왕숙, 고양창릉 등 신도시 17만호</td>\n",
              "    </tr>\n",
              "    <tr>\n",
              "      <th>15</th>\n",
              "      <td>주택도시기금 사업자대출 금리를 낮추겠습니다</td>\n",
              "    </tr>\n",
              "    <tr>\n",
              "      <th>16</th>\n",
              "      <td>「제5차 부동산시장 점검 관계장관회의」 개최</td>\n",
              "    </tr>\n",
              "    <tr>\n",
              "      <th>17</th>\n",
              "      <td>민간임대주택법 하위법령 개정안 입법예고…10월 12일까지</td>\n",
              "    </tr>\n",
              "    <tr>\n",
              "      <th>18</th>\n",
              "      <td>‘20.7월말 미분양 전국 28,883호, 수도권 3,145호(전월 대비 전국은 1...</td>\n",
              "    </tr>\n",
              "  </tbody>\n",
              "</table>\n",
              "</div>"
            ],
            "text/plain": [
              "                                                   제목\n",
              "0                      공공참여 가로주택 본궤도 진입…23일부터 2차 합동공모\n",
              "1       주택품질은 높이고 임대료는 낮춰 장기간 거주할 수 있는 임대주택을 공급하겠습니다.\n",
              "2               8월 주택 매매거래량은 8.5만 건, 전월세 거래량은 17.5만 건\n",
              "3                        국토부·서울시, 21일부터 공공재개발 후보지 공모 \n",
              "4   '20년 4분기(10월~12월) 전국 아파트 80,635세대, 서울 아파트 12,0...\n",
              "5                     분양가상한제 기본형건축비 9월 정기 고시…15일부터 적용\n",
              "6                         국토부, 공간정보 창업 아이디어 발굴·육성 나선다\n",
              "7                      국토부·우정사업본부·LH 우체국 복합개발 업무협약 체결\n",
              "8                           감정평가, 시장개선을 통해 새로운 활로 모색 \n",
              "9                         빈 오피스·상가, 민간임대주택으로 전환 쉬워진다 \n",
              "10                    10일부터 민간임대주택 공급 위한 3차 민간제안사업 공모\n",
              "11                       재건축부담금 국가귀속분 지자체 배분 평가지표 현실화\n",
              "12                           「제6차 부동산시장 점검 관계장관회의」 개최\n",
              "13                            수도권 37만호 집중 공급 본격 시동 ! \n",
              "14            경기북부에 33만호 공급 … 남양주왕숙, 고양창릉 등 신도시 17만호 \n",
              "15                            주택도시기금 사업자대출 금리를 낮추겠습니다\n",
              "16                          「제5차 부동산시장 점검 관계장관회의」 개최 \n",
              "17                   민간임대주택법 하위법령 개정안 입법예고…10월 12일까지 \n",
              "18  ‘20.7월말 미분양 전국 28,883호, 수도권 3,145호(전월 대비 전국은 1..."
            ]
          },
          "metadata": {
            "tags": []
          },
          "execution_count": 181
        }
      ]
    },
    {
      "cell_type": "code",
      "metadata": {
        "id": "RfQJhqVbQvTm"
      },
      "source": [
        ""
      ],
      "execution_count": null,
      "outputs": []
    }
  ]
}